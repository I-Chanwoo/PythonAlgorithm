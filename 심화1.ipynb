{
  "nbformat": 4,
  "nbformat_minor": 0,
  "metadata": {
    "colab": {
      "provenance": [],
      "authorship_tag": "ABX9TyNMqxG1KA08+uqVWtie40kT",
      "include_colab_link": true
    },
    "kernelspec": {
      "name": "python3",
      "display_name": "Python 3"
    },
    "language_info": {
      "name": "python"
    }
  },
  "cells": [
    {
      "cell_type": "markdown",
      "metadata": {
        "id": "view-in-github",
        "colab_type": "text"
      },
      "source": [
        "<a href=\"https://colab.research.google.com/github/I-Chanwoo/PythonAlgorithm/blob/main/%EC%8B%AC%ED%99%941.ipynb\" target=\"_parent\"><img src=\"https://colab.research.google.com/assets/colab-badge.svg\" alt=\"Open In Colab\"/></a>"
      ]
    },
    {
      "cell_type": "markdown",
      "source": [
        "## 팰린드롬\n",
        "알파벳 소문자로만 이루어진 단어가 주어진다. 이때, 이 단어가 팰린드롬인지 아닌지 확인하는 프로그램을 작성하시오.\n",
        "\n",
        "팰린드롬이란 앞으로 읽을 때와 거꾸로 읽을 때 똑같은 단어를 말한다.\n",
        "\n",
        "level, noon은 팰린드롬이고, baekjoon, online, judge는 팰린드롬이 아니다.\n"
      ],
      "metadata": {
        "id": "pYpub2WSlAPJ"
      }
    },
    {
      "cell_type": "code",
      "source": [
        "def is_palindrome(str):\n",
        "  if (len(str)%2==0):\n",
        "    for i in range(int(len(str)/2)):\n",
        "      if(str[i]!=str[-1-i]):\n",
        "        return 0\n",
        "    return 1\n",
        "  else:\n",
        "    for i in range(int(len(str)/2)):\n",
        "      if(str[i]!=str[-1-i]):\n",
        "        return 0\n",
        "    return 1\n",
        "\n",
        "x = input()\n",
        "print(is_palindrome(x))"
      ],
      "metadata": {
        "colab": {
          "base_uri": "https://localhost:8080/"
        },
        "id": "eeM_H8whloiY",
        "outputId": "5b09fa81-7110-4a18-df09-3fd34d8c65c2"
      },
      "execution_count": null,
      "outputs": [
        {
          "output_type": "stream",
          "name": "stdout",
          "text": [
            "1\n",
            "1\n"
          ]
        }
      ]
    },
    {
      "cell_type": "code",
      "source": [],
      "metadata": {
        "id": "aM2Js1V0mvlv"
      },
      "execution_count": null,
      "outputs": []
    },
    {
      "cell_type": "markdown",
      "source": [
        "## 별찍기 - 다이아몬드"
      ],
      "metadata": {
        "id": "gAEPbWvrwo0X"
      }
    },
    {
      "cell_type": "code",
      "source": [
        "num = int(input())\n",
        "num += 1\n",
        "for i in range(1,num):\n",
        "  for blank in range(num,i,-1):\n",
        "    print(\" \",end=\"\")\n",
        "  for star in range(i):\n",
        "    print(\"*\", end=\"\")\n",
        "  if(i>=2):\n",
        "    for star2 in range(i-1):\n",
        "      print(\"*\", end=\"\")\n",
        "  print()\n",
        "\n",
        "num -= 1\n",
        "for i in range(1,num):\n",
        "  for blank in range(-1,i):\n",
        "    print(\" \",end=\"\")\n",
        "  for star in range(num,i,-1):\n",
        "    print(\"*\", end=\"\")\n",
        "  for star2 in range(num,i+1,-1):\n",
        "    print(\"*\", end=\"\")\n",
        "  print()"
      ],
      "metadata": {
        "colab": {
          "base_uri": "https://localhost:8080/"
        },
        "id": "ysU3AyCzwroN",
        "outputId": "a79ca5a4-a919-4eed-889e-503b04c9dcd1"
      },
      "execution_count": null,
      "outputs": [
        {
          "output_type": "stream",
          "name": "stdout",
          "text": [
            "1\n",
            " *\n"
          ]
        }
      ]
    },
    {
      "cell_type": "markdown",
      "source": [
        "## 자바 페스티벌 고급문제\n"
      ],
      "metadata": {
        "id": "9iChtPCbQ1Ut"
      }
    },
    {
      "cell_type": "code",
      "source": [
        "def diamond():\n",
        "  li_n = []\n",
        "  for i in range(0,7):\n",
        "    li_n.append([])\n",
        "    for j in range(0,7):\n",
        "      li_n[i].append(0)\n",
        "\n",
        "  num = 1\n",
        "  for i in range(0,7):\n",
        "    if i%3 == 0:\n",
        "      if i == 3:\n",
        "        for j in range(0,7):\n",
        "          li_n[j][i] = num\n",
        "          num += 1\n",
        "      else:\n",
        "        li_n[3][i] = num\n",
        "        num += 1\n",
        "    elif i%2 == 0:\n",
        "      for j in range(1,6):\n",
        "        li_n[j][i] = num\n",
        "        num += 1\n",
        "    elif i%4 == 1:\n",
        "      for j in range(2,5):\n",
        "        li_n[j][i] = num\n",
        "        num += 1\n",
        "  return li_n\n",
        "\n",
        "li_n= diamond()\n",
        "for i in range(0,7):\n",
        "  for j in range(0,7):\n",
        "    print(str(li_n[i][j]).ljust(3), end = ' ')\n",
        "  print()"
      ],
      "metadata": {
        "colab": {
          "base_uri": "https://localhost:8080/"
        },
        "id": "CS0H6JjUxdrM",
        "outputId": "50289171-a242-4455-f6e2-f3318b0448be"
      },
      "execution_count": null,
      "outputs": [
        {
          "output_type": "stream",
          "name": "stdout",
          "text": [
            "0   0   0   10  0   0   0   \n",
            "0   0   5   11  17  0   0   \n",
            "0   2   6   12  18  22  0   \n",
            "1   3   7   13  19  23  25  \n",
            "0   4   8   14  20  24  0   \n",
            "0   0   9   15  21  0   0   \n",
            "0   0   0   16  0   0   0   \n"
          ]
        }
      ]
    },
    {
      "cell_type": "code",
      "source": [
        "num = 5\n",
        "for i in range(1,num+1):\n",
        "  for j in range(6-i, 1, -1):\n",
        "    print(' ',end =\"\")\n",
        "  for j in range(2*i-1):\n",
        "    print('*',end =\"\")\n",
        "  print()\n",
        "for i in range(num,1,-1):\n",
        "  for j in range(0,6-i):\n",
        "    print(' ',end =\"\")\n",
        "  for j in range(2*i-1,2,-1):\n",
        "    print('*',end =\"\")\n",
        "  print()"
      ],
      "metadata": {
        "colab": {
          "base_uri": "https://localhost:8080/"
        },
        "id": "jzrMT43VUK1H",
        "outputId": "f9de280f-b5cc-41d0-fa14-9744f5ecbb9d"
      },
      "execution_count": null,
      "outputs": [
        {
          "output_type": "stream",
          "name": "stdout",
          "text": [
            "    *\n",
            "   ***\n",
            "  *****\n",
            " *******\n",
            "*********\n",
            " *******\n",
            "  *****\n",
            "   ***\n",
            "    *\n"
          ]
        }
      ]
    },
    {
      "cell_type": "code",
      "source": [
        "n = int(input())\n",
        "for i in range(1, n):\n",
        "    print(' '*(n-i) + '*'*(2*i-1))\n",
        "for i in range(n, 0, -1):\n",
        "    print(' '*(n-i) + '*'*(2*i-1))"
      ],
      "metadata": {
        "id": "aqWBiQ62YzdJ",
        "colab": {
          "base_uri": "https://localhost:8080/"
        },
        "outputId": "5cea6185-897f-434c-d5a1-069d75e2b46c"
      },
      "execution_count": null,
      "outputs": [
        {
          "output_type": "stream",
          "name": "stdout",
          "text": [
            "5\n",
            "    *\n",
            "   ***\n",
            "  *****\n",
            " *******\n",
            "*********\n",
            " *******\n",
            "  *****\n",
            "   ***\n",
            "    *\n"
          ]
        }
      ]
    },
    {
      "cell_type": "code",
      "source": [],
      "metadata": {
        "colab": {
          "base_uri": "https://localhost:8080/"
        },
        "id": "3n2HgVRcoMJr",
        "outputId": "79764b9c-683a-435d-ceb3-91470ab18385"
      },
      "execution_count": null,
      "outputs": [
        {
          "output_type": "execute_result",
          "data": {
            "text/plain": [
              "1945.88889"
            ]
          },
          "metadata": {},
          "execution_count": 49
        }
      ]
    },
    {
      "cell_type": "code",
      "source": [
        "num = int(input())#색종이의 수\n",
        "arr = [[],[]]\n",
        "for i in range(num):\n",
        "    x1 = int(input())#색종이의 왼쪽변과 도화지 왼쪽변 사이의 거리\n",
        "    x2 = int(input())#색종이 아래쪽 변과 도화지 아래쪽 변 사이의 거리\n",
        "\n",
        "    arr[0].append(x1)\n",
        "    arr[1].append(x2)"
      ],
      "metadata": {
        "colab": {
          "base_uri": "https://localhost:8080/"
        },
        "id": "bxe01VvgsGyL",
        "outputId": "89b2b823-0546-46c8-93a9-0fc0fc1326fb"
      },
      "execution_count": null,
      "outputs": [
        {
          "name": "stdout",
          "output_type": "stream",
          "text": [
            "3\n",
            "3\n",
            "7\n",
            "15\n",
            "7\n",
            "5\n",
            "2\n"
          ]
        }
      ]
    },
    {
      "cell_type": "code",
      "source": [
        "print(arr)"
      ],
      "metadata": {
        "colab": {
          "base_uri": "https://localhost:8080/"
        },
        "id": "_0fLg6RKsoci",
        "outputId": "983f6036-bb90-48a4-8d27-2a8e7feca47c"
      },
      "execution_count": null,
      "outputs": [
        {
          "output_type": "stream",
          "name": "stdout",
          "text": [
            "[[3, 15, 5], [7, 7, 2]]\n"
          ]
        }
      ]
    },
    {
      "cell_type": "code",
      "source": [
        "# (3,7)(13,17)(13, 7)(1,17)\n",
        "# (15,7)(25,17)(15, 7)(25,17)\n",
        "# (5,2)(15,12)(15, 2)(5,12)"
      ],
      "metadata": {
        "id": "0rmOOY4ouuZN"
      },
      "execution_count": null,
      "outputs": []
    },
    {
      "cell_type": "code",
      "source": [
        "max_w = 100*num"
      ],
      "metadata": {
        "id": "CzoO82lXv93J"
      },
      "execution_count": null,
      "outputs": []
    },
    {
      "cell_type": "code",
      "source": [],
      "metadata": {
        "id": "TMyh9Sp9wFcw"
      },
      "execution_count": null,
      "outputs": []
    }
  ]
}