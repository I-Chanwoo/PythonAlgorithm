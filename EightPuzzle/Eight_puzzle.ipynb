{
 "cells": [
  {
   "cell_type": "code",
   "execution_count": 145,
   "metadata": {},
   "outputs": [],
   "source": [
    "import numpy as np\n",
    "import random\n",
    "import copy"
   ]
  },
  {
   "cell_type": "code",
   "execution_count": 146,
   "metadata": {},
   "outputs": [],
   "source": [
    "array_8 = random.sample([1, 2, 3, 4, 5, 6, 7, 8, 0],  9)\n",
    "puzzle = [[np.nan,np.nan,np.nan],[np.nan,np.nan,np.nan],[np.nan,np.nan,np.nan]]\n",
    "answer = [[1, 2, 3], [4, 5, 6], [7, 8, 0]]#goal_state"
   ]
  },
  {
   "cell_type": "code",
   "execution_count": 147,
   "metadata": {},
   "outputs": [],
   "source": [
    "num = 0\n",
    "for i in range(0,3):\n",
    "    for j in range(0,3):\n",
    "        puzzle[i][j] = array_8[num]\n",
    "        num += 1"
   ]
  },
  {
   "cell_type": "code",
   "execution_count": 162,
   "metadata": {},
   "outputs": [],
   "source": [
    "def count_correct(vector1, vecter2, vector1_case, vecter2_case, add):\n",
    "    assume = copy.deepcopy(add)\n",
    "    assume[vector1][vecter2] = assume[vector1_case][vecter2_case]\n",
    "    assume[vector1_case][vecter2_case] = 0\n",
    "    correct_num =list(np.equal(answer[0],assume[0])).count(True)+list(np.equal(answer[1],assume[1])).count(True)+list(np.equal(answer[2],assume[2])).count(True)\n",
    "    return correct_num, assume"
   ]
  },
  {
   "cell_type": "code",
   "execution_count": 163,
   "metadata": {},
   "outputs": [],
   "source": [
    "def compare(case1, case2, case3=[0], case4 =[0]):\n",
    "    dic = {case1[0]:case1, case2[0]:case2, case3[0]:case3, case4[0]:case4}\n",
    "    li = [case1[0], case2[0], case3[0], case4[0]]\n",
    "    maximum = max(li)\n",
    "\n",
    "    return dic[maximum][1]"
   ]
  },
  {
   "cell_type": "code",
   "execution_count": 164,
   "metadata": {},
   "outputs": [
    {
     "name": "stdout",
     "output_type": "stream",
     "text": [
      "[[5, 0, 7], [4, 1, 2], [3, 8, 6]]\n"
     ]
    }
   ],
   "source": [
    "print(puzzle)"
   ]
  },
  {
   "cell_type": "code",
   "execution_count": 165,
   "metadata": {},
   "outputs": [],
   "source": [
    "#8-puzzle function\n",
    "def solve8puzzle(quiz):\n",
    "    first = '' #vector 1\n",
    "    second = '' #vector 2\n",
    "\n",
    "    for i in range(len(quiz)):\n",
    "            for j in range(len(quiz[i])):\n",
    "                    if puzzle[i][j] == 0:\n",
    "                            first = i #first vector where zero is\n",
    "                            second = j #second vector where zero is\n",
    "    if first == 0:\n",
    "        if second == 0:\n",
    "            case1 = count_correct(0, 0, 0, 1, quiz)\n",
    "            case2 = count_correct(0, 0, 1, 0, quiz)\n",
    "            result = compare(case1, case2)\n",
    "        elif second == 1:\n",
    "            case1 = count_correct(0, 1, 0, 2, quiz)\n",
    "            case2 = count_correct(0, 1, 0, 0, quiz)\n",
    "            case3 = count_correct(0, 1, 1, 1, quiz)\n",
    "            result = compare(case1, case2, case3)\n",
    "        else:\n",
    "            case1 = count_correct(0, 2, 0, 1, quiz)\n",
    "            case2 = count_correct(0, 2, 1, 2, quiz)\n",
    "            result = compare(case1, case2)\n",
    "\n",
    "    elif first == 1:\n",
    "        if second == 0:\n",
    "            case1 = count_correct(1, 0, 1, 1, quiz)\n",
    "            case2 = count_correct(1, 0, 2, 0, quiz)\n",
    "            case3 = count_correct(1, 0, 0, 0, quiz)\n",
    "            result = compare(case1, case2, case3)\n",
    "        elif second == 1:\n",
    "            case1 = count_correct(1, 1, 1, 2, quiz)\n",
    "            case2 = count_correct(1, 1, 1, 0, quiz)\n",
    "            case3 = count_correct(1, 1, 2, 1, quiz)\n",
    "            case4 = count_correct(1, 1, 0, 1, quiz)\n",
    "            result = compare(case1, case2, case3, case4)\n",
    "        else:\n",
    "            case1 = count_correct(1, 2, 1, 1, quiz)\n",
    "            case2 = count_correct(1, 2, 2, 2, quiz)\n",
    "            case3 = count_correct(1, 2, 0, 2, quiz)\n",
    "            result = compare(case1, case2, case3)   \n",
    "    else:\n",
    "        if second == 0:\n",
    "            case1 = count_correct(2, 0, 2, 1, quiz)\n",
    "            case2 = count_correct(2, 0, 1, 0, quiz)\n",
    "            result = compare(case1, case2)\n",
    "\n",
    "        elif second == 1:\n",
    "            case1 = count_correct(2, 1, 2, 2, quiz)\n",
    "            case2 = count_correct(2, 1, 2, 0, quiz)\n",
    "            case3 = count_correct(2, 1, 1, 1, quiz)\n",
    "            result = compare(case1, case2, case3)\n",
    "        else:\n",
    "            case1 = count_correct(2, 2, 2, 1, quiz)\n",
    "            case2 = count_correct(2, 2, 1, 2, quiz)\n",
    "            result = compare(case1, case2)\n",
    "\n",
    "    return result, quiz\n"
   ]
  },
  {
   "cell_type": "code",
   "execution_count": 166,
   "metadata": {},
   "outputs": [
    {
     "name": "stdout",
     "output_type": "stream",
     "text": [
      "[[5, 1, 7], [4, 0, 2], [3, 8, 6]]\n",
      "[[5, 0, 7], [4, 1, 2], [3, 8, 6]]\n",
      "[[5, 1, 7], [4, 0, 2], [3, 8, 6]]\n",
      "[[5, 0, 7], [4, 1, 2], [3, 8, 6]]\n",
      "[[5, 1, 7], [4, 0, 2], [3, 8, 6]]\n",
      "[[5, 0, 7], [4, 1, 2], [3, 8, 6]]\n",
      "[[5, 1, 7], [4, 0, 2], [3, 8, 6]]\n",
      "[[5, 0, 7], [4, 1, 2], [3, 8, 6]]\n",
      "[[5, 1, 7], [4, 0, 2], [3, 8, 6]]\n",
      "[[5, 0, 7], [4, 1, 2], [3, 8, 6]]\n"
     ]
    }
   ],
   "source": [
    "for i in range(0,10):\n",
    "    puzzle = solve8puzzle(puzzle)\n",
    "    print(puzzle)\n",
    "\n",
    "    "
   ]
  },
  {
   "cell_type": "code",
   "execution_count": null,
   "metadata": {},
   "outputs": [],
   "source": []
  }
 ],
 "metadata": {
  "kernelspec": {
   "display_name": "Python 3",
   "language": "python",
   "name": "python3"
  },
  "language_info": {
   "codemirror_mode": {
    "name": "ipython",
    "version": 3
   },
   "file_extension": ".py",
   "mimetype": "text/x-python",
   "name": "python",
   "nbconvert_exporter": "python",
   "pygments_lexer": "ipython3",
   "version": "3.11.4"
  },
  "orig_nbformat": 4
 },
 "nbformat": 4,
 "nbformat_minor": 2
}
