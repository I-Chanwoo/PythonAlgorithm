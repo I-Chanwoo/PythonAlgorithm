{
 "cells": [
  {
   "cell_type": "code",
   "execution_count": 44,
   "metadata": {},
   "outputs": [],
   "source": [
    "graph = [[0,1,0,1],\n",
    "\t\t [0,1,0,0],\n",
    "\t\t [0,0,0,0],\n",
    "\t\t [0,1,1,0]]\n",
    "start = 0\n",
    "queue = []\n",
    "visited = []\n",
    "\n",
    "\n",
    "def bfs(graph, start, visited):\n",
    "\tqueue.append(start)\n",
    "\t\n",
    "\twhile queue: #큐가 빌 때 까지\n",
    "\t\tcur = queue.pop(0)\n",
    "\t\t\n",
    "\t\tvisited.append(cur)\n",
    "\t\tnum = 0\n",
    "\t\tfor i in graph[cur]:\n",
    "\t\t\tif i == 1:\n",
    "\t\t\t\tif (num in visited) or (num in queue):\n",
    "\t\t\t\t\tpass\n",
    "\t\t\t\telse:\n",
    "\t\t\t\t\tqueue.append(num)\n",
    "\t\t\tnum += 1\n",
    "\t\n",
    "\treturn visited"
   ]
  },
  {
   "cell_type": "code",
   "execution_count": 45,
   "metadata": {},
   "outputs": [
    {
     "name": "stdout",
     "output_type": "stream",
     "text": [
      "결과값\n",
      " [0, 1, 3, 2]\n"
     ]
    }
   ],
   "source": [
    "result = bfs(graph, start, visited)\n",
    "print('결과값\\n', result)"
   ]
  },
  {
   "cell_type": "code",
   "execution_count": 33,
   "metadata": {},
   "outputs": [
    {
     "name": "stdout",
     "output_type": "stream",
     "text": [
      "[]\n"
     ]
    }
   ],
   "source": []
  },
  {
   "cell_type": "code",
   "execution_count": null,
   "metadata": {},
   "outputs": [],
   "source": []
  }
 ],
 "metadata": {
  "kernelspec": {
   "display_name": "Python 3",
   "language": "python",
   "name": "python3"
  },
  "language_info": {
   "codemirror_mode": {
    "name": "ipython",
    "version": 3
   },
   "file_extension": ".py",
   "mimetype": "text/x-python",
   "name": "python",
   "nbconvert_exporter": "python",
   "pygments_lexer": "ipython3",
   "version": "3.11.4"
  }
 },
 "nbformat": 4,
 "nbformat_minor": 2
}
