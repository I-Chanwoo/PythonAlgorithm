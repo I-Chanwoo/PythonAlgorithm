{
 "cells": [
  {
   "cell_type": "code",
   "execution_count": 1,
   "metadata": {},
   "outputs": [],
   "source": [
    "import pandas as pd\n",
    "import numpy as np\n",
    "import tkinter as tk\n",
    "import random as rd"
   ]
  },
  {
   "cell_type": "code",
   "execution_count": 55,
   "metadata": {},
   "outputs": [],
   "source": [
    "root = tk.Tk()\n",
    "root.title(\"fractal\")\n",
    "root.geometry(\"300x200+100+100\")\n",
    "canvas = tk.Canvas(root, height= 200,width=200, bg= \"white\", bd = 1)"
   ]
  },
  {
   "cell_type": "code",
   "execution_count": 56,
   "metadata": {},
   "outputs": [],
   "source": [
    "def draw_circle(x,y,r):\n",
    "    return canvas.create_oval(x-r, y-r, x+r, y+r)\n",
    "\n",
    "def draw_fractal(x,y,r):\n",
    "    draw_circle(x,y,r)\n",
    "    if r >= radius/2 :\n",
    "        draw_fractal(x-r//2,y,r//2)"
   ]
  },
  {
   "cell_type": "code",
   "execution_count": 57,
   "metadata": {},
   "outputs": [],
   "source": [
    "radius = 100\n",
    "draw_fractal(100,100,radius)\n",
    "canvas.pack(fill=\"both\", expand=True)\n",
    "root.mainloop()"
   ]
  },
  {
   "cell_type": "code",
   "execution_count": 1,
   "metadata": {},
   "outputs": [
    {
     "name": "stdout",
     "output_type": "stream",
     "text": [
      "Collecting python-time\n",
      "  Downloading python-time-0.3.0.tar.gz (2.6 kB)\n",
      "  Installing build dependencies: started\n",
      "  Installing build dependencies: finished with status 'done'\n",
      "  Getting requirements to build wheel: started\n",
      "  Getting requirements to build wheel: finished with status 'done'\n",
      "  Preparing metadata (pyproject.toml): started\n",
      "  Preparing metadata (pyproject.toml): finished with status 'done'\n",
      "Collecting arrow (from python-time)\n",
      "  Downloading arrow-1.3.0-py3-none-any.whl (66 kB)\n",
      "                                              0.0/66.4 kB ? eta -:--:--\n",
      "     ---------------------------------------- 66.4/66.4 kB 3.5 MB/s eta 0:00:00\n",
      "Requirement already satisfied: python-dateutil>=2.7.0 in c:\\users\\cksdn\\appdata\\roaming\\python\\python311\\site-packages (from arrow->python-time) (2.8.2)\n",
      "Collecting types-python-dateutil>=2.8.10 (from arrow->python-time)\n",
      "  Downloading types_python_dateutil-2.8.19.14-py3-none-any.whl (9.4 kB)\n",
      "Requirement already satisfied: six>=1.5 in c:\\users\\cksdn\\appdata\\roaming\\python\\python311\\site-packages (from python-dateutil>=2.7.0->arrow->python-time) (1.16.0)\n",
      "Building wheels for collected packages: python-time\n",
      "  Building wheel for python-time (pyproject.toml): started\n",
      "  Building wheel for python-time (pyproject.toml): finished with status 'done'\n",
      "  Created wheel for python-time: filename=python_time-0.3.0-py3-none-any.whl size=2776 sha256=1f50020d5b68f321baf7a5a585ca7242a20a12cccd2dfa38a78fc71ee1d6f4ac\n",
      "  Stored in directory: c:\\users\\cksdn\\appdata\\local\\pip\\cache\\wheels\\cf\\d5\\ba\\05ac80b718137a4b76da9911beeceb2337b4caf52c78cfe037\n",
      "Successfully built python-time\n",
      "Installing collected packages: types-python-dateutil, arrow, python-time\n",
      "Successfully installed arrow-1.3.0 python-time-0.3.0 types-python-dateutil-2.8.19.14\n",
      "Note: you may need to restart the kernel to use updated packages.\n"
     ]
    },
    {
     "name": "stderr",
     "output_type": "stream",
     "text": [
      "\n",
      "[notice] A new release of pip is available: 23.1.2 -> 23.3.1\n",
      "[notice] To update, run: python.exe -m pip install --upgrade pip\n"
     ]
    }
   ],
   "source": []
  },
  {
   "cell_type": "code",
   "execution_count": null,
   "metadata": {},
   "outputs": [],
   "source": []
  }
 ],
 "metadata": {
  "kernelspec": {
   "display_name": "Python 3",
   "language": "python",
   "name": "python3"
  },
  "language_info": {
   "codemirror_mode": {
    "name": "ipython",
    "version": 3
   },
   "file_extension": ".py",
   "mimetype": "text/x-python",
   "name": "python",
   "nbconvert_exporter": "python",
   "pygments_lexer": "ipython3",
   "version": "3.11.4"
  }
 },
 "nbformat": 4,
 "nbformat_minor": 2
}
