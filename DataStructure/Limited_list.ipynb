{
 "cells": [
  {
   "cell_type": "code",
   "execution_count": 3,
   "metadata": {},
   "outputs": [],
   "source": [
    "#사이즈가 제한되어있는 리스트 만들기\n",
    "class List():\n",
    "    def __init__(self, size):\n",
    "        self.size = size\n",
    "        self.list = [] #리스트 생성\n",
    "        for i in range(self.size):\n",
    "            self.list.append('')\n",
    "            i+=1\n",
    "    \n",
    "    def get_list(self):\n",
    "        return self.list #파이썬에서 _로 되어있는 변수는 외부 접근을 허용하지 않음\n",
    "\n",
    "    def insert_list(self, data, position = -1):\n",
    "        #list가 차있는지 확인\n",
    "        #list가 차있다면\n",
    "        if len(self.list)>=self.size:\n",
    "            print(\"ERROR: full of list:: \", self.list)#에러 메시지 출력\n",
    "            return #함수종료\n",
    "\n",
    "        #list가 차있지 않다면\n",
    "        if position == -1: #포지션을 설정하지 않았다면\n",
    "            if len(self.list)<self.size:\n",
    "                for i in range(self.size):\n",
    "                    \n",
    "                    i+=1\n",
    "                self.list.append(data)\n",
    "        elif position >= 0: #포지션을 설정했다면\n",
    "                self.list.insert(position, data)\n",
    "        return \n",
    "    \n",
    "    def change_value(self, data, position):\n",
    "        if len(self.list) == 0:\n",
    "            print(\"ERROR: empty list. you must insert data before change value\")\n",
    "            return\n",
    "        elif position >= len(self.size):\n",
    "            print(\"ERROR: the position value is larger than your list.\")\n",
    "            return\n",
    "        else:\n",
    "            self.list\n",
    "         \n",
    "\n",
    "\n",
    "\n"
   ]
  },
  {
   "cell_type": "code",
   "execution_count": 4,
   "metadata": {},
   "outputs": [
    {
     "data": {
      "text/plain": [
       "['', '']"
      ]
     },
     "execution_count": 4,
     "metadata": {},
     "output_type": "execute_result"
    }
   ],
   "source": [
    "a = List(2)\n",
    "a.size\n",
    "a.list"
   ]
  },
  {
   "cell_type": "code",
   "execution_count": 31,
   "metadata": {},
   "outputs": [
    {
     "data": {
      "text/plain": [
       "0"
      ]
     },
     "execution_count": 31,
     "metadata": {},
     "output_type": "execute_result"
    }
   ],
   "source": [
    "a = ['','','']\n",
    "num = 0\n",
    "index = 0\n",
    "for i in a:\n",
    "    if i != '':\n",
    "       index = num\n",
    "    num += 1 \n",
    "\n",
    "index   "
   ]
  },
  {
   "cell_type": "code",
   "execution_count": 25,
   "metadata": {},
   "outputs": [
    {
     "data": {
      "text/plain": [
       "3"
      ]
     },
     "execution_count": 25,
     "metadata": {},
     "output_type": "execute_result"
    }
   ],
   "source": [
    "a.count('')"
   ]
  },
  {
   "cell_type": "code",
   "execution_count": null,
   "metadata": {},
   "outputs": [],
   "source": []
  }
 ],
 "metadata": {
  "kernelspec": {
   "display_name": "Python 3",
   "language": "python",
   "name": "python3"
  },
  "language_info": {
   "codemirror_mode": {
    "name": "ipython",
    "version": 3
   },
   "file_extension": ".py",
   "mimetype": "text/x-python",
   "name": "python",
   "nbconvert_exporter": "python",
   "pygments_lexer": "ipython3",
   "version": "3.11.4"
  },
  "orig_nbformat": 4
 },
 "nbformat": 4,
 "nbformat_minor": 2
}
