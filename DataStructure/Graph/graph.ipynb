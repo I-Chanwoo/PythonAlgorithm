{
 "cells": [
  {
   "cell_type": "markdown",
   "metadata": {},
   "source": [
    "# 그래프\n",
    "\n",
    "----\n",
    "\n",
    "1. 그래프의 종류\n",
    "    1) 무방향 그래프\n",
    "    2) 방향 그래프  \n",
    "  \n",
    "    \n",
    "2. 그래프의 구현\n",
    "    1) 그림으로 구현(이해를 위해)\n",
    "    2) 배열로 구현\n",
    "        - 무방향 그래프: 대각선을 기준으로 대칭\n",
    "        -  방향 그래프: 대칭일 수도, 아닐 수도 있음"
   ]
  },
  {
   "cell_type": "code",
   "execution_count": 1,
   "metadata": {},
   "outputs": [],
   "source": [
    "import pandas as pd\n",
    "import numpy as np"
   ]
  },
  {
   "cell_type": "markdown",
   "metadata": {},
   "source": [
    "### Graph class"
   ]
  },
  {
   "cell_type": "code",
   "execution_count": 2,
   "metadata": {},
   "outputs": [],
   "source": [
    "class Graph():\n",
    "    def __init__(self, size):\n",
    "        self.size = size\n",
    "        self.graph = [[0 for i in range(self.size)] for i in range(self.size)] #graph 초기화"
   ]
  },
  {
   "cell_type": "markdown",
   "metadata": {},
   "source": [
    "### DFS"
   ]
  },
  {
   "cell_type": "code",
   "execution_count": 3,
   "metadata": {},
   "outputs": [],
   "source": [
    "#global varience 선언\n",
    "G1 = None #그래프\n",
    "stack = [] #방문 할 정점\n",
    "visited_ary = [] #방문한 정점"
   ]
  },
  {
   "cell_type": "code",
   "execution_count": 6,
   "metadata": {},
   "outputs": [],
   "source": [
    "'''\n",
    "그래프 생성\n",
    "'''\n",
    "\n",
    "G1 = Graph(4)\n",
    "\n",
    "'''\n",
    "print(G1.graph)\n",
    "\n",
    "[0][1][0][0]\n",
    "[0][0][1][0]\n",
    "[1][0][0][0]\n",
    "[0][1][0][0]\n",
    "\n",
    "'''\n",
    "G1.graph[0][1] = 1\n",
    "G1.graph[1][2] = 1\n",
    "G1.graph[2][0] = 1\n",
    "G1.graph[3][1] = 1"
   ]
  },
  {
   "cell_type": "code",
   "execution_count": 8,
   "metadata": {},
   "outputs": [
    {
     "name": "stdout",
     "output_type": "stream",
     "text": [
      " 무방향 그래프 \n",
      "0 1 0 0 \n",
      "0 0 1 0 \n",
      "1 0 0 0 \n",
      "0 1 0 0 \n"
     ]
    }
   ],
   "source": [
    "def print_graph(G):\n",
    "    size = G.size\n",
    "\n",
    "    for row in range(size):\n",
    "        for col in range(size):\n",
    "            print(G1.graph[row][col], end = ' ')\n",
    "        print()\n",
    "\n",
    "print_graph(G1)"
   ]
  },
  {
   "cell_type": "code",
   "execution_count": null,
   "metadata": {},
   "outputs": [],
   "source": []
  }
 ],
 "metadata": {
  "kernelspec": {
   "display_name": "Python 3",
   "language": "python",
   "name": "python3"
  },
  "language_info": {
   "codemirror_mode": {
    "name": "ipython",
    "version": 3
   },
   "file_extension": ".py",
   "mimetype": "text/x-python",
   "name": "python",
   "nbconvert_exporter": "python",
   "pygments_lexer": "ipython3",
   "version": "3.11.4"
  }
 },
 "nbformat": 4,
 "nbformat_minor": 2
}
