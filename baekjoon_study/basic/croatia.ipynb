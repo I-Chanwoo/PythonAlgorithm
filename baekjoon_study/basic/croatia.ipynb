{
 "cells": [
  {
   "cell_type": "code",
   "execution_count": null,
   "metadata": {},
   "outputs": [],
   "source": [
    "def count_croatia(input):\n",
    "    count = len(input)\n",
    "    for i in ['c=','c-','d-','lj','nj','s=','z=']:\n",
    "        if(i == 'z='):\n",
    "            if(input.count('dz=')!=0):\n",
    "                count -= 2*input.count('dz=')\n",
    "                input = input.replace('dz=','')\n",
    "        count -= 1*input.count(i)  \n",
    "    return count\n",
    "\n",
    "print(count_croatia(input()))"
   ]
  }
 ],
 "metadata": {
  "language_info": {
   "name": "python"
  }
 },
 "nbformat": 4,
 "nbformat_minor": 2
}
