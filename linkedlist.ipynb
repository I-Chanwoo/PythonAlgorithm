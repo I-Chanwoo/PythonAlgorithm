{
  "nbformat": 4,
  "nbformat_minor": 0,
  "metadata": {
    "colab": {
      "provenance": [],
      "authorship_tag": "ABX9TyNyZ7i8eQdCpfvXfDcG+yF3",
      "include_colab_link": true
    },
    "kernelspec": {
      "name": "python3",
      "display_name": "Python 3"
    },
    "language_info": {
      "name": "python"
    }
  },
  "cells": [
    {
      "cell_type": "markdown",
      "metadata": {
        "id": "view-in-github",
        "colab_type": "text"
      },
      "source": [
        "<a href=\"https://colab.research.google.com/github/I-Chanwoo/PythonAlgorithm/blob/main/linkedlist.ipynb\" target=\"_parent\"><img src=\"https://colab.research.google.com/assets/colab-badge.svg\" alt=\"Open In Colab\"/></a>"
      ]
    },
    {
      "cell_type": "code",
      "execution_count": 3,
      "metadata": {
        "id": "MpPwniINMnOS"
      },
      "outputs": [],
      "source": [
        "import pandas as pd\n",
        "\n",
        "#연결 노드\n",
        "class Node():\n",
        "  def __init__(self,data):\n",
        "    self.data = data\n",
        "    self.link = None\n",
        "\n",
        "#노드 중간 삽입\n",
        "def insert(head, target, node):\n",
        "  cur = head\n",
        "  while cur.link != None:\n",
        "      if cur.data == target:\n",
        "        node.link = cur.link\n",
        "        cur.link = node\n",
        "      cur = cur.link\n",
        "\n",
        "#연결리스트 출력\n",
        "def print_linkedli(head):\n",
        "    cur = head\n",
        "    print(cur.data)\n",
        "    while cur.link != None:\n",
        "        cur = cur.link\n",
        "        print(cur.data)\n",
        "    print('end')"
      ]
    },
    {
      "cell_type": "code",
      "source": [
        "a = Node('a')\n",
        "b = Node('b')\n",
        "c = Node('c')\n",
        "\n",
        "a.link = b\n",
        "b.link = c\n",
        "\n",
        "node1 = Node('target')\n",
        "insert(a,'b', node1)"
      ],
      "metadata": {
        "id": "J0pdvGxkMutR"
      },
      "execution_count": 72,
      "outputs": []
    },
    {
      "cell_type": "code",
      "source": [
        "def delete(head, target):\n",
        "  if head.data == target:\n",
        "    head.data = None\n",
        "    head.link = None\n",
        "    del(head)\n",
        "    return\n",
        "  pre = None\n",
        "  cur = head\n",
        "  while cur.link != None:\n",
        "      if cur.data == target:\n",
        "        print(pre.data, cur.data)\n",
        "        pre.link = cur.link\n",
        "        del(cur)\n",
        "        break\n",
        "      pre = cur\n",
        "      cur = cur.link\n",
        "\n",
        "  #pre.link = cur.link\n"
      ],
      "metadata": {
        "id": "-RzQdKryqYcn"
      },
      "execution_count": 90,
      "outputs": []
    },
    {
      "cell_type": "code",
      "source": [
        "delete(a, 'a')"
      ],
      "metadata": {
        "id": "4746MJDurQny"
      },
      "execution_count": 91,
      "outputs": []
    },
    {
      "cell_type": "code",
      "source": [
        "print_linkedli(a)"
      ],
      "metadata": {
        "colab": {
          "base_uri": "https://localhost:8080/"
        },
        "id": "WVtfXPbmrWDC",
        "outputId": "cbbe176b-6c59-4ea7-bc5e-3fd7e9b6df27"
      },
      "execution_count": 92,
      "outputs": [
        {
          "output_type": "stream",
          "name": "stdout",
          "text": [
            "None\n",
            "end\n"
          ]
        }
      ]
    },
    {
      "cell_type": "code",
      "source": [],
      "metadata": {
        "id": "-tQWhFtbsaJ3"
      },
      "execution_count": null,
      "outputs": []
    }
  ]
}